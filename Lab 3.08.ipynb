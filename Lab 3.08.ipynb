{
 "cells": [
  {
   "cell_type": "markdown",
   "id": "e81e0c7d",
   "metadata": {},
   "source": [
    "## Import Libraries"
   ]
  },
  {
   "cell_type": "code",
   "execution_count": 1,
   "id": "8db1d0b8",
   "metadata": {},
   "outputs": [],
   "source": [
    "import pymysql\n",
    "from sqlalchemy import create_engine\n",
    "import pandas as pd\n",
    "import numpy as np\n"
   ]
  },
  {
   "cell_type": "markdown",
   "id": "3876716a",
   "metadata": {},
   "source": [
    "## Connect and create engine with MySQL"
   ]
  },
  {
   "cell_type": "code",
   "execution_count": 2,
   "id": "68cc3ea1",
   "metadata": {},
   "outputs": [
    {
     "name": "stdout",
     "output_type": "stream",
     "text": [
      "········\n"
     ]
    }
   ],
   "source": [
    "import getpass \n",
    "password = getpass.getpass()"
   ]
  },
  {
   "cell_type": "code",
   "execution_count": 3,
   "id": "ed2aec7f",
   "metadata": {},
   "outputs": [],
   "source": [
    "connection_string = 'mysql+pymysql://root:' + password + '@localhost/sakila'\n",
    "engine = create_engine(connection_string)"
   ]
  },
  {
   "cell_type": "markdown",
   "id": "c60b76c5",
   "metadata": {},
   "source": [
    "# GOALS:"
   ]
  },
  {
   "cell_type": "markdown",
   "id": "f8698acd",
   "metadata": {},
   "source": [
    "## In order to optimize our inventory, we would like to know which films will be rented. We are asked to create a model to predict it. So we use the information we have from May 2005 to create the model"
   ]
  },
  {
   "cell_type": "markdown",
   "id": "515ca522",
   "metadata": {},
   "source": [
    "#### Create a query to get the list of all unique film titles and a boolean indicating if it was rented (rental_date) in May 2005. (Create new column called - 'rented_in_may'). This will be our TARGET (y) variable."
   ]
  },
  {
   "cell_type": "code",
   "execution_count": 4,
   "id": "877dfc34",
   "metadata": {},
   "outputs": [],
   "source": [
    "query = '''SELECT MAX(CASE WHEN YEAR(r.rental_date) = 2005 AND MONTH(r.rental_date) = 5 THEN 1 ELSE 0 END) AS rented_in_may\n",
    "FROM film AS f\n",
    "LEFT JOIN inventory AS i ON f.film_id = i.film_id\n",
    "LEFT JOIN rental AS r ON i.inventory_id = r.inventory_id\n",
    "GROUP BY f.title;'''\n",
    "data=pd.read_sql(query, engine)"
   ]
  },
  {
   "cell_type": "code",
   "execution_count": 59,
   "id": "033bd00d",
   "metadata": {},
   "outputs": [],
   "source": [
    "#display(data)"
   ]
  },
  {
   "cell_type": "markdown",
   "id": "6e4607df",
   "metadata": {},
   "source": [
    "### Create a query or queries to extract the information you think may be relevant for building the prediction model. It should include some film features and some rental features (X)."
   ]
  },
  {
   "cell_type": "code",
   "execution_count": 5,
   "id": "8bc0f81c",
   "metadata": {},
   "outputs": [],
   "source": [
    "query2='''SELECT DISTINCT rental_duration, rental_rate, length, rating, replacement_cost, special_features\n",
    "FROM film;'''\n",
    "data2=pd.read_sql(query2, engine)"
   ]
  },
  {
   "cell_type": "code",
   "execution_count": 7,
   "id": "9f005e39",
   "metadata": {},
   "outputs": [
    {
     "data": {
      "text/plain": [
       "(1000, 6)"
      ]
     },
     "execution_count": 7,
     "metadata": {},
     "output_type": "execute_result"
    }
   ],
   "source": [
    "#data2.shape"
   ]
  },
  {
   "cell_type": "code",
   "execution_count": 6,
   "id": "56e064c6",
   "metadata": {},
   "outputs": [],
   "source": [
    "df=pd.concat([data, data2], axis=1) "
   ]
  },
  {
   "cell_type": "code",
   "execution_count": 9,
   "id": "331b5d3b",
   "metadata": {
    "scrolled": true
   },
   "outputs": [
    {
     "data": {
      "text/html": [
       "<div>\n",
       "<style scoped>\n",
       "    .dataframe tbody tr th:only-of-type {\n",
       "        vertical-align: middle;\n",
       "    }\n",
       "\n",
       "    .dataframe tbody tr th {\n",
       "        vertical-align: top;\n",
       "    }\n",
       "\n",
       "    .dataframe thead th {\n",
       "        text-align: right;\n",
       "    }\n",
       "</style>\n",
       "<table border=\"1\" class=\"dataframe\">\n",
       "  <thead>\n",
       "    <tr style=\"text-align: right;\">\n",
       "      <th></th>\n",
       "      <th>rented_in_may</th>\n",
       "      <th>rental_duration</th>\n",
       "      <th>rental_rate</th>\n",
       "      <th>length</th>\n",
       "      <th>rating</th>\n",
       "      <th>replacement_cost</th>\n",
       "      <th>special_features</th>\n",
       "    </tr>\n",
       "  </thead>\n",
       "  <tbody>\n",
       "    <tr>\n",
       "      <th>0</th>\n",
       "      <td>1</td>\n",
       "      <td>6</td>\n",
       "      <td>0.99</td>\n",
       "      <td>86</td>\n",
       "      <td>PG</td>\n",
       "      <td>20.99</td>\n",
       "      <td>Deleted Scenes,Behind the Scenes</td>\n",
       "    </tr>\n",
       "    <tr>\n",
       "      <th>1</th>\n",
       "      <td>0</td>\n",
       "      <td>3</td>\n",
       "      <td>4.99</td>\n",
       "      <td>48</td>\n",
       "      <td>G</td>\n",
       "      <td>12.99</td>\n",
       "      <td>Trailers,Deleted Scenes</td>\n",
       "    </tr>\n",
       "    <tr>\n",
       "      <th>2</th>\n",
       "      <td>1</td>\n",
       "      <td>7</td>\n",
       "      <td>2.99</td>\n",
       "      <td>50</td>\n",
       "      <td>NC-17</td>\n",
       "      <td>18.99</td>\n",
       "      <td>Trailers,Deleted Scenes</td>\n",
       "    </tr>\n",
       "    <tr>\n",
       "      <th>3</th>\n",
       "      <td>1</td>\n",
       "      <td>5</td>\n",
       "      <td>2.99</td>\n",
       "      <td>117</td>\n",
       "      <td>G</td>\n",
       "      <td>26.99</td>\n",
       "      <td>Commentaries,Behind the Scenes</td>\n",
       "    </tr>\n",
       "    <tr>\n",
       "      <th>4</th>\n",
       "      <td>1</td>\n",
       "      <td>6</td>\n",
       "      <td>2.99</td>\n",
       "      <td>130</td>\n",
       "      <td>G</td>\n",
       "      <td>22.99</td>\n",
       "      <td>Deleted Scenes</td>\n",
       "    </tr>\n",
       "    <tr>\n",
       "      <th>...</th>\n",
       "      <td>...</td>\n",
       "      <td>...</td>\n",
       "      <td>...</td>\n",
       "      <td>...</td>\n",
       "      <td>...</td>\n",
       "      <td>...</td>\n",
       "      <td>...</td>\n",
       "    </tr>\n",
       "    <tr>\n",
       "      <th>995</th>\n",
       "      <td>0</td>\n",
       "      <td>6</td>\n",
       "      <td>0.99</td>\n",
       "      <td>183</td>\n",
       "      <td>G</td>\n",
       "      <td>9.99</td>\n",
       "      <td>Trailers,Behind the Scenes</td>\n",
       "    </tr>\n",
       "    <tr>\n",
       "      <th>996</th>\n",
       "      <td>0</td>\n",
       "      <td>4</td>\n",
       "      <td>0.99</td>\n",
       "      <td>179</td>\n",
       "      <td>NC-17</td>\n",
       "      <td>14.99</td>\n",
       "      <td>Trailers,Behind the Scenes</td>\n",
       "    </tr>\n",
       "    <tr>\n",
       "      <th>997</th>\n",
       "      <td>1</td>\n",
       "      <td>6</td>\n",
       "      <td>0.99</td>\n",
       "      <td>105</td>\n",
       "      <td>NC-17</td>\n",
       "      <td>10.99</td>\n",
       "      <td>Deleted Scenes</td>\n",
       "    </tr>\n",
       "    <tr>\n",
       "      <th>998</th>\n",
       "      <td>1</td>\n",
       "      <td>5</td>\n",
       "      <td>2.99</td>\n",
       "      <td>101</td>\n",
       "      <td>R</td>\n",
       "      <td>28.99</td>\n",
       "      <td>Trailers,Deleted Scenes</td>\n",
       "    </tr>\n",
       "    <tr>\n",
       "      <th>999</th>\n",
       "      <td>1</td>\n",
       "      <td>3</td>\n",
       "      <td>4.99</td>\n",
       "      <td>50</td>\n",
       "      <td>NC-17</td>\n",
       "      <td>18.99</td>\n",
       "      <td>Trailers,Commentaries,Behind the Scenes</td>\n",
       "    </tr>\n",
       "  </tbody>\n",
       "</table>\n",
       "<p>1000 rows × 7 columns</p>\n",
       "</div>"
      ],
      "text/plain": [
       "     rented_in_may  rental_duration  rental_rate  length rating  \\\n",
       "0                1                6         0.99      86     PG   \n",
       "1                0                3         4.99      48      G   \n",
       "2                1                7         2.99      50  NC-17   \n",
       "3                1                5         2.99     117      G   \n",
       "4                1                6         2.99     130      G   \n",
       "..             ...              ...          ...     ...    ...   \n",
       "995              0                6         0.99     183      G   \n",
       "996              0                4         0.99     179  NC-17   \n",
       "997              1                6         0.99     105  NC-17   \n",
       "998              1                5         2.99     101      R   \n",
       "999              1                3         4.99      50  NC-17   \n",
       "\n",
       "     replacement_cost                         special_features  \n",
       "0               20.99         Deleted Scenes,Behind the Scenes  \n",
       "1               12.99                  Trailers,Deleted Scenes  \n",
       "2               18.99                  Trailers,Deleted Scenes  \n",
       "3               26.99           Commentaries,Behind the Scenes  \n",
       "4               22.99                           Deleted Scenes  \n",
       "..                ...                                      ...  \n",
       "995              9.99               Trailers,Behind the Scenes  \n",
       "996             14.99               Trailers,Behind the Scenes  \n",
       "997             10.99                           Deleted Scenes  \n",
       "998             28.99                  Trailers,Deleted Scenes  \n",
       "999             18.99  Trailers,Commentaries,Behind the Scenes  \n",
       "\n",
       "[1000 rows x 7 columns]"
      ]
     },
     "execution_count": 9,
     "metadata": {},
     "output_type": "execute_result"
    }
   ],
   "source": [
    "#df"
   ]
  },
  {
   "cell_type": "code",
   "execution_count": 10,
   "id": "82593915",
   "metadata": {
    "scrolled": true
   },
   "outputs": [
    {
     "data": {
      "image/png": "[encoded data removed]",
      "text/plain": [
       "<Figure size 1000x800 with 2 Axes>"
      ]
     },
     "metadata": {},
     "output_type": "display_data"
    }
   ],
   "source": [
    "import matplotlib.pyplot as plt\n",
    "import seaborn as sns\n",
    "corr_matrix=df.corr(method='pearson')  # default\n",
    "fig, ax = plt.subplots(figsize=(10, 8))\n",
    "ax = sns.heatmap(corr_matrix, annot=True)\n",
    "plt.show()\n"
   ]
  },
  {
   "cell_type": "code",
   "execution_count": 7,
   "id": "23348422",
   "metadata": {},
   "outputs": [],
   "source": [
    "from sklearn.model_selection import train_test_split\n",
    "from sklearn.preprocessing import MinMaxScaler\n",
    "from sklearn.preprocessing import OneHotEncoder"
   ]
  },
  {
   "cell_type": "code",
   "execution_count": 53,
   "id": "0a365eec",
   "metadata": {},
   "outputs": [
    {
     "data": {
      "text/plain": [
       "<AxesSubplot:>"
      ]
     },
     "execution_count": 53,
     "metadata": {},
     "output_type": "execute_result"
    },
    {
     "data": {
      "image/png": "[encoded data removed]",
      "text/plain": [
       "<Figure size 640x480 with 1 Axes>"
      ]
     },
     "metadata": {},
     "output_type": "display_data"
    }
   ],
   "source": [
    "count_classes = df['rented_in_may'].value_counts()\n",
    "count_classes\n",
    "count_classes.plot(kind = 'bar')"
   ]
  },
  {
   "cell_type": "markdown",
   "id": "a9270ed0",
   "metadata": {},
   "source": [
    " ## X-y"
   ]
  },
  {
   "cell_type": "code",
   "execution_count": 8,
   "id": "d4dd56c0",
   "metadata": {},
   "outputs": [],
   "source": [
    "y = df['rented_in_may']\n",
    "X = df.drop('rented_in_may', axis=1)"
   ]
  },
  {
   "cell_type": "markdown",
   "id": "89f3385d",
   "metadata": {},
   "source": [
    "#### Train-Test Split"
   ]
  },
  {
   "cell_type": "code",
   "execution_count": 11,
   "id": "bff53521",
   "metadata": {},
   "outputs": [],
   "source": [
    "X_train, X_test, y_train, y_test = train_test_split(X, y, test_size=0.2, random_state=420)"
   ]
  },
  {
   "cell_type": "code",
   "execution_count": 12,
   "id": "ff6a1687",
   "metadata": {},
   "outputs": [],
   "source": [
    "X_train_num = X_train.select_dtypes(include = np.number)\n",
    "X_test_num  = X_test.select_dtypes(include = np.number)\n",
    "X_train_cat = X_train.select_dtypes(include = object)\n",
    "X_test_cat  = X_test.select_dtypes(include = object)"
   ]
  },
  {
   "cell_type": "markdown",
   "id": "c2e98d2d",
   "metadata": {},
   "source": [
    "### Normalizing the TRAIN set"
   ]
  },
  {
   "cell_type": "code",
   "execution_count": 13,
   "id": "de84f36f",
   "metadata": {},
   "outputs": [],
   "source": [
    "transformer = MinMaxScaler().fit(X_train_num) \n",
    "X_train_normalized = transformer.transform(X_train_num)\n",
    "X_train_norm = pd.DataFrame(X_train_normalized)"
   ]
  },
  {
   "cell_type": "code",
   "execution_count": 14,
   "id": "dd1deb6e",
   "metadata": {
    "scrolled": true
   },
   "outputs": [],
   "source": [
    "#X_train_cat"
   ]
  },
  {
   "cell_type": "markdown",
   "id": "bce69423",
   "metadata": {},
   "source": [
    "### Onehot econding the TRAIN set"
   ]
  },
  {
   "cell_type": "code",
   "execution_count": 15,
   "id": "b40198fb",
   "metadata": {
    "scrolled": false
   },
   "outputs": [],
   "source": [
    "encoder = OneHotEncoder(drop='first').fit(X_train_cat)\n",
    "encoded_cat = encoder.transform(X_train_cat).toarray()\n",
    "cols = encoder.get_feature_names_out(input_features=X_train_cat.columns)\n",
    "onehot_encoded = pd.DataFrame(encoded_cat, columns=cols)\n",
    "#onehot_encoded.head()"
   ]
  },
  {
   "cell_type": "code",
   "execution_count": 16,
   "id": "762e337c",
   "metadata": {},
   "outputs": [],
   "source": [
    "X_train_transformed = pd.concat([X_train_norm, onehot_encoded], axis=1)"
   ]
  },
  {
   "cell_type": "markdown",
   "id": "99b31c2a",
   "metadata": {},
   "source": [
    "### Applying the model"
   ]
  },
  {
   "cell_type": "code",
   "execution_count": 17,
   "id": "9a2ab447",
   "metadata": {
    "scrolled": true
   },
   "outputs": [
    {
     "name": "stderr",
     "output_type": "stream",
     "text": [
      "C:\\Users\\sabba\\anaconda3\\lib\\site-packages\\sklearn\\utils\\validation.py:1688: FutureWarning: Feature names only support names that are all strings. Got feature names with dtypes: ['int', 'str']. An error will be raised in 1.2.\n",
      "  warnings.warn(\n"
     ]
    }
   ],
   "source": [
    "from sklearn.linear_model import LogisticRegression     \n",
    "classification = LogisticRegression().fit(X_train_transformed, y_train)"
   ]
  },
  {
   "cell_type": "markdown",
   "id": "d2dde8e7",
   "metadata": {},
   "source": [
    "### Normalizing the TEST set"
   ]
  },
  {
   "cell_type": "code",
   "execution_count": 18,
   "id": "4ecafba3",
   "metadata": {},
   "outputs": [],
   "source": [
    "X_test_normalized = transformer.transform(X_test_num)\n",
    "X_test_norm = pd.DataFrame(X_test_normalized)"
   ]
  },
  {
   "cell_type": "markdown",
   "id": "0d049289",
   "metadata": {},
   "source": [
    "### Onehot enconding the TEST set"
   ]
  },
  {
   "cell_type": "code",
   "execution_count": 19,
   "id": "2002069a",
   "metadata": {
    "scrolled": true
   },
   "outputs": [],
   "source": [
    "encoded_test_cat = encoder.transform(X_test_cat).toarray()\n",
    "onehot_encoded_test = pd.DataFrame(encoded_test_cat, columns=cols)\n",
    "#onehot_encoded_test.head()"
   ]
  },
  {
   "cell_type": "code",
   "execution_count": 20,
   "id": "59306768",
   "metadata": {},
   "outputs": [],
   "source": [
    "X_test_treated = pd.concat([X_test_norm, onehot_encoded_test], axis=1)"
   ]
  },
  {
   "cell_type": "markdown",
   "id": "dbbff52f",
   "metadata": {},
   "source": [
    "### Creating and Analyzing Predictions"
   ]
  },
  {
   "cell_type": "code",
   "execution_count": 21,
   "id": "372a2a98",
   "metadata": {},
   "outputs": [
    {
     "name": "stderr",
     "output_type": "stream",
     "text": [
      "C:\\Users\\sabba\\anaconda3\\lib\\site-packages\\sklearn\\utils\\validation.py:1688: FutureWarning: Feature names only support names that are all strings. Got feature names with dtypes: ['int', 'str']. An error will be raised in 1.2.\n",
      "  warnings.warn(\n",
      "C:\\Users\\sabba\\anaconda3\\lib\\site-packages\\sklearn\\utils\\validation.py:1688: FutureWarning: Feature names only support names that are all strings. Got feature names with dtypes: ['int', 'str']. An error will be raised in 1.2.\n",
      "  warnings.warn(\n"
     ]
    },
    {
     "data": {
      "text/plain": [
       "0.67"
      ]
     },
     "execution_count": 21,
     "metadata": {},
     "output_type": "execute_result"
    }
   ],
   "source": [
    "predictions = classification.predict(X_test_treated)\n",
    "classification.score(X_test_treated, y_test)"
   ]
  },
  {
   "cell_type": "code",
   "execution_count": 22,
   "id": "3b2b5733",
   "metadata": {},
   "outputs": [
    {
     "data": {
      "text/plain": [
       "array([[  3,  63],\n",
       "       [  3, 131]], dtype=int64)"
      ]
     },
     "execution_count": 22,
     "metadata": {},
     "output_type": "execute_result"
    }
   ],
   "source": [
    "from sklearn.metrics import confusion_matrix\n",
    "confusion_matrix(y_test, predictions)"
   ]
  },
  {
   "cell_type": "code",
   "execution_count": 23,
   "id": "36303f76",
   "metadata": {
    "scrolled": true
   },
   "outputs": [
    {
     "data": {
      "text/plain": [
       "array([1, 1, 0, 1, 1, 1, 1, 1, 1, 1, 1, 1, 1, 1, 1, 1, 1, 1, 1, 1, 1, 1,\n",
       "       1, 1, 1, 1, 1, 1, 1, 1, 1, 1, 1, 0, 1, 1, 1, 1, 1, 1, 1, 1, 1, 1,\n",
       "       1, 1, 1, 1, 1, 1, 1, 1, 1, 1, 1, 1, 1, 1, 1, 1, 1, 1, 1, 1, 1, 1,\n",
       "       1, 1, 1, 1, 1, 1, 1, 1, 1, 1, 1, 1, 1, 1, 1, 1, 1, 1, 1, 1, 1, 1,\n",
       "       1, 1, 1, 1, 1, 1, 1, 1, 1, 1, 1, 1, 1, 1, 1, 1, 1, 1, 1, 1, 1, 1,\n",
       "       1, 1, 1, 1, 1, 1, 1, 1, 1, 0, 1, 1, 1, 1, 1, 1, 0, 1, 1, 1, 1, 1,\n",
       "       1, 1, 1, 1, 1, 0, 1, 1, 1, 1, 1, 1, 1, 1, 1, 1, 1, 1, 1, 1, 1, 1,\n",
       "       1, 1, 1, 1, 1, 1, 1, 1, 1, 1, 1, 1, 1, 1, 1, 1, 1, 1, 1, 1, 1, 1,\n",
       "       1, 1, 1, 1, 1, 1, 1, 1, 1, 0, 1, 1, 1, 1, 1, 1, 1, 1, 1, 1, 1, 1,\n",
       "       1, 1], dtype=int64)"
      ]
     },
     "execution_count": 23,
     "metadata": {},
     "output_type": "execute_result"
    }
   ],
   "source": [
    "predictions"
   ]
  },
  {
   "cell_type": "code",
   "execution_count": 24,
   "id": "1954f853",
   "metadata": {},
   "outputs": [],
   "source": [
    "from sklearn.metrics import precision_score\n",
    "from sklearn.metrics import recall_score\n",
    "from sklearn.metrics import f1_score"
   ]
  },
  {
   "cell_type": "code",
   "execution_count": 63,
   "id": "b43bad42",
   "metadata": {},
   "outputs": [
    {
     "name": "stdout",
     "output_type": "stream",
     "text": [
      "precision:  0.6752577319587629\n",
      "recall:  0.9776119402985075\n",
      "f1:  0.7987804878048781\n"
     ]
    },
    {
     "name": "stderr",
     "output_type": "stream",
     "text": [
      "C:\\Users\\sabba\\anaconda3\\lib\\site-packages\\sklearn\\utils\\validation.py:1688: FutureWarning: Feature names only support names that are all strings. Got feature names with dtypes: ['int', 'str']. An error will be raised in 1.2.\n",
      "  warnings.warn(\n"
     ]
    }
   ],
   "source": [
    "pred = classification.predict(X_test_treated)\n",
    "\n",
    "print(\"precision: \",precision_score(y_test,pred))\n",
    "print(\"recall: \",recall_score(y_test,pred))\n",
    "print(\"f1: \",f1_score(y_test,pred))"
   ]
  },
  {
   "cell_type": "markdown",
   "id": "a76fb2e7",
   "metadata": {},
   "source": [
    "#### Oversampling  Bonus Exercise"
   ]
  },
  {
   "cell_type": "code",
   "execution_count": 29,
   "id": "f73cea21",
   "metadata": {},
   "outputs": [],
   "source": [
    "from sklearn.utils import resample"
   ]
  },
  {
   "cell_type": "code",
   "execution_count": 32,
   "id": "7c4d8884",
   "metadata": {},
   "outputs": [],
   "source": [
    "y_train = y_train.reset_index(drop=True) \n",
    "\n",
    "y_test = y_test.reset_index(drop=True) "
   ]
  },
  {
   "cell_type": "code",
   "execution_count": 56,
   "id": "004cf0a0",
   "metadata": {},
   "outputs": [
    {
     "data": {
      "text/html": [
       "<div>\n",
       "<style scoped>\n",
       "    .dataframe tbody tr th:only-of-type {\n",
       "        vertical-align: middle;\n",
       "    }\n",
       "\n",
       "    .dataframe tbody tr th {\n",
       "        vertical-align: top;\n",
       "    }\n",
       "\n",
       "    .dataframe thead th {\n",
       "        text-align: right;\n",
       "    }\n",
       "</style>\n",
       "<table border=\"1\" class=\"dataframe\">\n",
       "  <thead>\n",
       "    <tr style=\"text-align: right;\">\n",
       "      <th></th>\n",
       "      <th>0</th>\n",
       "      <th>1</th>\n",
       "      <th>2</th>\n",
       "      <th>3</th>\n",
       "      <th>rating_NC-17</th>\n",
       "      <th>rating_PG</th>\n",
       "      <th>rating_PG-13</th>\n",
       "      <th>rating_R</th>\n",
       "      <th>special_features_Commentaries</th>\n",
       "      <th>special_features_Commentaries,Behind the Scenes</th>\n",
       "      <th>...</th>\n",
       "      <th>special_features_Deleted Scenes,Behind the Scenes</th>\n",
       "      <th>special_features_Trailers</th>\n",
       "      <th>special_features_Trailers,Behind the Scenes</th>\n",
       "      <th>special_features_Trailers,Commentaries</th>\n",
       "      <th>special_features_Trailers,Commentaries,Behind the Scenes</th>\n",
       "      <th>special_features_Trailers,Commentaries,Deleted Scenes</th>\n",
       "      <th>special_features_Trailers,Commentaries,Deleted Scenes,Behind the Scenes</th>\n",
       "      <th>special_features_Trailers,Deleted Scenes</th>\n",
       "      <th>special_features_Trailers,Deleted Scenes,Behind the Scenes</th>\n",
       "      <th>rented_in_may</th>\n",
       "    </tr>\n",
       "  </thead>\n",
       "  <tbody>\n",
       "    <tr>\n",
       "      <th>0</th>\n",
       "      <td>0.75</td>\n",
       "      <td>1.0</td>\n",
       "      <td>0.964029</td>\n",
       "      <td>0.20</td>\n",
       "      <td>1.0</td>\n",
       "      <td>0.0</td>\n",
       "      <td>0.0</td>\n",
       "      <td>0.0</td>\n",
       "      <td>1.0</td>\n",
       "      <td>0.0</td>\n",
       "      <td>...</td>\n",
       "      <td>0.0</td>\n",
       "      <td>0.0</td>\n",
       "      <td>0.0</td>\n",
       "      <td>0.0</td>\n",
       "      <td>0.0</td>\n",
       "      <td>0.0</td>\n",
       "      <td>0.0</td>\n",
       "      <td>0.0</td>\n",
       "      <td>0.0</td>\n",
       "      <td>1</td>\n",
       "    </tr>\n",
       "    <tr>\n",
       "      <th>1</th>\n",
       "      <td>0.50</td>\n",
       "      <td>1.0</td>\n",
       "      <td>0.640288</td>\n",
       "      <td>0.95</td>\n",
       "      <td>0.0</td>\n",
       "      <td>0.0</td>\n",
       "      <td>1.0</td>\n",
       "      <td>0.0</td>\n",
       "      <td>0.0</td>\n",
       "      <td>0.0</td>\n",
       "      <td>...</td>\n",
       "      <td>1.0</td>\n",
       "      <td>0.0</td>\n",
       "      <td>0.0</td>\n",
       "      <td>0.0</td>\n",
       "      <td>0.0</td>\n",
       "      <td>0.0</td>\n",
       "      <td>0.0</td>\n",
       "      <td>0.0</td>\n",
       "      <td>0.0</td>\n",
       "      <td>1</td>\n",
       "    </tr>\n",
       "    <tr>\n",
       "      <th>2</th>\n",
       "      <td>0.75</td>\n",
       "      <td>1.0</td>\n",
       "      <td>0.985612</td>\n",
       "      <td>0.25</td>\n",
       "      <td>0.0</td>\n",
       "      <td>0.0</td>\n",
       "      <td>1.0</td>\n",
       "      <td>0.0</td>\n",
       "      <td>0.0</td>\n",
       "      <td>0.0</td>\n",
       "      <td>...</td>\n",
       "      <td>0.0</td>\n",
       "      <td>0.0</td>\n",
       "      <td>0.0</td>\n",
       "      <td>0.0</td>\n",
       "      <td>0.0</td>\n",
       "      <td>0.0</td>\n",
       "      <td>0.0</td>\n",
       "      <td>0.0</td>\n",
       "      <td>0.0</td>\n",
       "      <td>0</td>\n",
       "    </tr>\n",
       "    <tr>\n",
       "      <th>3</th>\n",
       "      <td>0.00</td>\n",
       "      <td>0.0</td>\n",
       "      <td>0.043165</td>\n",
       "      <td>0.30</td>\n",
       "      <td>0.0</td>\n",
       "      <td>0.0</td>\n",
       "      <td>0.0</td>\n",
       "      <td>0.0</td>\n",
       "      <td>0.0</td>\n",
       "      <td>0.0</td>\n",
       "      <td>...</td>\n",
       "      <td>0.0</td>\n",
       "      <td>1.0</td>\n",
       "      <td>0.0</td>\n",
       "      <td>0.0</td>\n",
       "      <td>0.0</td>\n",
       "      <td>0.0</td>\n",
       "      <td>0.0</td>\n",
       "      <td>0.0</td>\n",
       "      <td>0.0</td>\n",
       "      <td>0</td>\n",
       "    </tr>\n",
       "    <tr>\n",
       "      <th>4</th>\n",
       "      <td>0.00</td>\n",
       "      <td>0.5</td>\n",
       "      <td>0.179856</td>\n",
       "      <td>0.45</td>\n",
       "      <td>0.0</td>\n",
       "      <td>0.0</td>\n",
       "      <td>1.0</td>\n",
       "      <td>0.0</td>\n",
       "      <td>0.0</td>\n",
       "      <td>0.0</td>\n",
       "      <td>...</td>\n",
       "      <td>0.0</td>\n",
       "      <td>0.0</td>\n",
       "      <td>0.0</td>\n",
       "      <td>0.0</td>\n",
       "      <td>0.0</td>\n",
       "      <td>1.0</td>\n",
       "      <td>0.0</td>\n",
       "      <td>0.0</td>\n",
       "      <td>0.0</td>\n",
       "      <td>0</td>\n",
       "    </tr>\n",
       "    <tr>\n",
       "      <th>...</th>\n",
       "      <td>...</td>\n",
       "      <td>...</td>\n",
       "      <td>...</td>\n",
       "      <td>...</td>\n",
       "      <td>...</td>\n",
       "      <td>...</td>\n",
       "      <td>...</td>\n",
       "      <td>...</td>\n",
       "      <td>...</td>\n",
       "      <td>...</td>\n",
       "      <td>...</td>\n",
       "      <td>...</td>\n",
       "      <td>...</td>\n",
       "      <td>...</td>\n",
       "      <td>...</td>\n",
       "      <td>...</td>\n",
       "      <td>...</td>\n",
       "      <td>...</td>\n",
       "      <td>...</td>\n",
       "      <td>...</td>\n",
       "      <td>...</td>\n",
       "    </tr>\n",
       "    <tr>\n",
       "      <th>795</th>\n",
       "      <td>1.00</td>\n",
       "      <td>0.5</td>\n",
       "      <td>0.575540</td>\n",
       "      <td>0.50</td>\n",
       "      <td>0.0</td>\n",
       "      <td>0.0</td>\n",
       "      <td>1.0</td>\n",
       "      <td>0.0</td>\n",
       "      <td>0.0</td>\n",
       "      <td>0.0</td>\n",
       "      <td>...</td>\n",
       "      <td>0.0</td>\n",
       "      <td>0.0</td>\n",
       "      <td>0.0</td>\n",
       "      <td>0.0</td>\n",
       "      <td>0.0</td>\n",
       "      <td>1.0</td>\n",
       "      <td>0.0</td>\n",
       "      <td>0.0</td>\n",
       "      <td>0.0</td>\n",
       "      <td>1</td>\n",
       "    </tr>\n",
       "    <tr>\n",
       "      <th>796</th>\n",
       "      <td>1.00</td>\n",
       "      <td>0.5</td>\n",
       "      <td>0.546763</td>\n",
       "      <td>0.20</td>\n",
       "      <td>0.0</td>\n",
       "      <td>1.0</td>\n",
       "      <td>0.0</td>\n",
       "      <td>0.0</td>\n",
       "      <td>0.0</td>\n",
       "      <td>0.0</td>\n",
       "      <td>...</td>\n",
       "      <td>0.0</td>\n",
       "      <td>0.0</td>\n",
       "      <td>0.0</td>\n",
       "      <td>0.0</td>\n",
       "      <td>0.0</td>\n",
       "      <td>0.0</td>\n",
       "      <td>0.0</td>\n",
       "      <td>0.0</td>\n",
       "      <td>0.0</td>\n",
       "      <td>1</td>\n",
       "    </tr>\n",
       "    <tr>\n",
       "      <th>797</th>\n",
       "      <td>0.75</td>\n",
       "      <td>0.5</td>\n",
       "      <td>0.719424</td>\n",
       "      <td>0.80</td>\n",
       "      <td>0.0</td>\n",
       "      <td>0.0</td>\n",
       "      <td>1.0</td>\n",
       "      <td>0.0</td>\n",
       "      <td>0.0</td>\n",
       "      <td>0.0</td>\n",
       "      <td>...</td>\n",
       "      <td>0.0</td>\n",
       "      <td>0.0</td>\n",
       "      <td>0.0</td>\n",
       "      <td>0.0</td>\n",
       "      <td>0.0</td>\n",
       "      <td>0.0</td>\n",
       "      <td>1.0</td>\n",
       "      <td>0.0</td>\n",
       "      <td>0.0</td>\n",
       "      <td>1</td>\n",
       "    </tr>\n",
       "    <tr>\n",
       "      <th>798</th>\n",
       "      <td>0.50</td>\n",
       "      <td>0.5</td>\n",
       "      <td>0.748201</td>\n",
       "      <td>0.65</td>\n",
       "      <td>0.0</td>\n",
       "      <td>0.0</td>\n",
       "      <td>1.0</td>\n",
       "      <td>0.0</td>\n",
       "      <td>0.0</td>\n",
       "      <td>0.0</td>\n",
       "      <td>...</td>\n",
       "      <td>0.0</td>\n",
       "      <td>0.0</td>\n",
       "      <td>0.0</td>\n",
       "      <td>1.0</td>\n",
       "      <td>0.0</td>\n",
       "      <td>0.0</td>\n",
       "      <td>0.0</td>\n",
       "      <td>0.0</td>\n",
       "      <td>0.0</td>\n",
       "      <td>1</td>\n",
       "    </tr>\n",
       "    <tr>\n",
       "      <th>799</th>\n",
       "      <td>0.00</td>\n",
       "      <td>1.0</td>\n",
       "      <td>0.705036</td>\n",
       "      <td>0.25</td>\n",
       "      <td>1.0</td>\n",
       "      <td>0.0</td>\n",
       "      <td>0.0</td>\n",
       "      <td>0.0</td>\n",
       "      <td>0.0</td>\n",
       "      <td>0.0</td>\n",
       "      <td>...</td>\n",
       "      <td>0.0</td>\n",
       "      <td>0.0</td>\n",
       "      <td>0.0</td>\n",
       "      <td>0.0</td>\n",
       "      <td>0.0</td>\n",
       "      <td>0.0</td>\n",
       "      <td>0.0</td>\n",
       "      <td>0.0</td>\n",
       "      <td>0.0</td>\n",
       "      <td>0</td>\n",
       "    </tr>\n",
       "  </tbody>\n",
       "</table>\n",
       "<p>800 rows × 23 columns</p>\n",
       "</div>"
      ],
      "text/plain": [
       "        0    1         2     3  rating_NC-17  rating_PG  rating_PG-13  \\\n",
       "0    0.75  1.0  0.964029  0.20           1.0        0.0           0.0   \n",
       "1    0.50  1.0  0.640288  0.95           0.0        0.0           1.0   \n",
       "2    0.75  1.0  0.985612  0.25           0.0        0.0           1.0   \n",
       "3    0.00  0.0  0.043165  0.30           0.0        0.0           0.0   \n",
       "4    0.00  0.5  0.179856  0.45           0.0        0.0           1.0   \n",
       "..    ...  ...       ...   ...           ...        ...           ...   \n",
       "795  1.00  0.5  0.575540  0.50           0.0        0.0           1.0   \n",
       "796  1.00  0.5  0.546763  0.20           0.0        1.0           0.0   \n",
       "797  0.75  0.5  0.719424  0.80           0.0        0.0           1.0   \n",
       "798  0.50  0.5  0.748201  0.65           0.0        0.0           1.0   \n",
       "799  0.00  1.0  0.705036  0.25           1.0        0.0           0.0   \n",
       "\n",
       "     rating_R  special_features_Commentaries  \\\n",
       "0         0.0                            1.0   \n",
       "1         0.0                            0.0   \n",
       "2         0.0                            0.0   \n",
       "3         0.0                            0.0   \n",
       "4         0.0                            0.0   \n",
       "..        ...                            ...   \n",
       "795       0.0                            0.0   \n",
       "796       0.0                            0.0   \n",
       "797       0.0                            0.0   \n",
       "798       0.0                            0.0   \n",
       "799       0.0                            0.0   \n",
       "\n",
       "     special_features_Commentaries,Behind the Scenes  ...  \\\n",
       "0                                                0.0  ...   \n",
       "1                                                0.0  ...   \n",
       "2                                                0.0  ...   \n",
       "3                                                0.0  ...   \n",
       "4                                                0.0  ...   \n",
       "..                                               ...  ...   \n",
       "795                                              0.0  ...   \n",
       "796                                              0.0  ...   \n",
       "797                                              0.0  ...   \n",
       "798                                              0.0  ...   \n",
       "799                                              0.0  ...   \n",
       "\n",
       "     special_features_Deleted Scenes,Behind the Scenes  \\\n",
       "0                                                  0.0   \n",
       "1                                                  1.0   \n",
       "2                                                  0.0   \n",
       "3                                                  0.0   \n",
       "4                                                  0.0   \n",
       "..                                                 ...   \n",
       "795                                                0.0   \n",
       "796                                                0.0   \n",
       "797                                                0.0   \n",
       "798                                                0.0   \n",
       "799                                                0.0   \n",
       "\n",
       "     special_features_Trailers  special_features_Trailers,Behind the Scenes  \\\n",
       "0                          0.0                                          0.0   \n",
       "1                          0.0                                          0.0   \n",
       "2                          0.0                                          0.0   \n",
       "3                          1.0                                          0.0   \n",
       "4                          0.0                                          0.0   \n",
       "..                         ...                                          ...   \n",
       "795                        0.0                                          0.0   \n",
       "796                        0.0                                          0.0   \n",
       "797                        0.0                                          0.0   \n",
       "798                        0.0                                          0.0   \n",
       "799                        0.0                                          0.0   \n",
       "\n",
       "     special_features_Trailers,Commentaries  \\\n",
       "0                                       0.0   \n",
       "1                                       0.0   \n",
       "2                                       0.0   \n",
       "3                                       0.0   \n",
       "4                                       0.0   \n",
       "..                                      ...   \n",
       "795                                     0.0   \n",
       "796                                     0.0   \n",
       "797                                     0.0   \n",
       "798                                     1.0   \n",
       "799                                     0.0   \n",
       "\n",
       "     special_features_Trailers,Commentaries,Behind the Scenes  \\\n",
       "0                                                  0.0          \n",
       "1                                                  0.0          \n",
       "2                                                  0.0          \n",
       "3                                                  0.0          \n",
       "4                                                  0.0          \n",
       "..                                                 ...          \n",
       "795                                                0.0          \n",
       "796                                                0.0          \n",
       "797                                                0.0          \n",
       "798                                                0.0          \n",
       "799                                                0.0          \n",
       "\n",
       "     special_features_Trailers,Commentaries,Deleted Scenes  \\\n",
       "0                                                  0.0       \n",
       "1                                                  0.0       \n",
       "2                                                  0.0       \n",
       "3                                                  0.0       \n",
       "4                                                  1.0       \n",
       "..                                                 ...       \n",
       "795                                                1.0       \n",
       "796                                                0.0       \n",
       "797                                                0.0       \n",
       "798                                                0.0       \n",
       "799                                                0.0       \n",
       "\n",
       "     special_features_Trailers,Commentaries,Deleted Scenes,Behind the Scenes  \\\n",
       "0                                                  0.0                         \n",
       "1                                                  0.0                         \n",
       "2                                                  0.0                         \n",
       "3                                                  0.0                         \n",
       "4                                                  0.0                         \n",
       "..                                                 ...                         \n",
       "795                                                0.0                         \n",
       "796                                                0.0                         \n",
       "797                                                1.0                         \n",
       "798                                                0.0                         \n",
       "799                                                0.0                         \n",
       "\n",
       "     special_features_Trailers,Deleted Scenes  \\\n",
       "0                                         0.0   \n",
       "1                                         0.0   \n",
       "2                                         0.0   \n",
       "3                                         0.0   \n",
       "4                                         0.0   \n",
       "..                                        ...   \n",
       "795                                       0.0   \n",
       "796                                       0.0   \n",
       "797                                       0.0   \n",
       "798                                       0.0   \n",
       "799                                       0.0   \n",
       "\n",
       "     special_features_Trailers,Deleted Scenes,Behind the Scenes  rented_in_may  \n",
       "0                                                  0.0                       1  \n",
       "1                                                  0.0                       1  \n",
       "2                                                  0.0                       0  \n",
       "3                                                  0.0                       0  \n",
       "4                                                  0.0                       0  \n",
       "..                                                 ...                     ...  \n",
       "795                                                0.0                       1  \n",
       "796                                                0.0                       1  \n",
       "797                                                0.0                       1  \n",
       "798                                                0.0                       1  \n",
       "799                                                0.0                       0  \n",
       "\n",
       "[800 rows x 23 columns]"
      ]
     },
     "execution_count": 56,
     "metadata": {},
     "output_type": "execute_result"
    }
   ],
   "source": [
    "train = pd.concat([X_train_transformed, y_train],axis=1)\n",
    "train"
   ]
  },
  {
   "cell_type": "code",
   "execution_count": 34,
   "id": "fefe7722",
   "metadata": {},
   "outputs": [],
   "source": [
    "no_rented = train[train['rented_in_may']==0]\n",
    "yes_rented = train[train['rented_in_may']==1]"
   ]
  },
  {
   "cell_type": "code",
   "execution_count": 57,
   "id": "f25e1ba6",
   "metadata": {},
   "outputs": [
    {
     "data": {
      "text/plain": [
       "(248, 23)"
      ]
     },
     "metadata": {},
     "output_type": "display_data"
    },
    {
     "data": {
      "text/plain": [
       "(552, 23)"
      ]
     },
     "metadata": {},
     "output_type": "display_data"
    }
   ],
   "source": [
    "display(no_rented.shape)\n",
    "display(yes_rented.shape)"
   ]
  },
  {
   "cell_type": "code",
   "execution_count": 58,
   "id": "ac7b1440",
   "metadata": {},
   "outputs": [],
   "source": [
    "yes_rented_oversampled = resample(yes_rented, \n",
    "                                    replace=True, \n",
    "                                    n_samples = len(no_rented),\n",
    "                                    random_state=0)"
   ]
  },
  {
   "cell_type": "code",
   "execution_count": 60,
   "id": "78d60f9c",
   "metadata": {},
   "outputs": [
    {
     "data": {
      "text/plain": [
       "(248, 23)"
      ]
     },
     "metadata": {},
     "output_type": "display_data"
    },
    {
     "data": {
      "text/plain": [
       "(248, 23)"
      ]
     },
     "metadata": {},
     "output_type": "display_data"
    }
   ],
   "source": [
    "display(no_rented.shape)\n",
    "display(yes_rented_oversampled.shape)"
   ]
  },
  {
   "cell_type": "code",
   "execution_count": 61,
   "id": "e9f6b2cf",
   "metadata": {
    "scrolled": true
   },
   "outputs": [
    {
     "data": {
      "text/html": [
       "<div>\n",
       "<style scoped>\n",
       "    .dataframe tbody tr th:only-of-type {\n",
       "        vertical-align: middle;\n",
       "    }\n",
       "\n",
       "    .dataframe tbody tr th {\n",
       "        vertical-align: top;\n",
       "    }\n",
       "\n",
       "    .dataframe thead th {\n",
       "        text-align: right;\n",
       "    }\n",
       "</style>\n",
       "<table border=\"1\" class=\"dataframe\">\n",
       "  <thead>\n",
       "    <tr style=\"text-align: right;\">\n",
       "      <th></th>\n",
       "      <th>0</th>\n",
       "      <th>1</th>\n",
       "      <th>2</th>\n",
       "      <th>3</th>\n",
       "      <th>rating_NC-17</th>\n",
       "      <th>rating_PG</th>\n",
       "      <th>rating_PG-13</th>\n",
       "      <th>rating_R</th>\n",
       "      <th>special_features_Commentaries</th>\n",
       "      <th>special_features_Commentaries,Behind the Scenes</th>\n",
       "      <th>...</th>\n",
       "      <th>special_features_Deleted Scenes,Behind the Scenes</th>\n",
       "      <th>special_features_Trailers</th>\n",
       "      <th>special_features_Trailers,Behind the Scenes</th>\n",
       "      <th>special_features_Trailers,Commentaries</th>\n",
       "      <th>special_features_Trailers,Commentaries,Behind the Scenes</th>\n",
       "      <th>special_features_Trailers,Commentaries,Deleted Scenes</th>\n",
       "      <th>special_features_Trailers,Commentaries,Deleted Scenes,Behind the Scenes</th>\n",
       "      <th>special_features_Trailers,Deleted Scenes</th>\n",
       "      <th>special_features_Trailers,Deleted Scenes,Behind the Scenes</th>\n",
       "      <th>rented_in_may</th>\n",
       "    </tr>\n",
       "  </thead>\n",
       "  <tbody>\n",
       "    <tr>\n",
       "      <th>2</th>\n",
       "      <td>0.75</td>\n",
       "      <td>1.0</td>\n",
       "      <td>0.985612</td>\n",
       "      <td>0.25</td>\n",
       "      <td>0.0</td>\n",
       "      <td>0.0</td>\n",
       "      <td>1.0</td>\n",
       "      <td>0.0</td>\n",
       "      <td>0.0</td>\n",
       "      <td>0.0</td>\n",
       "      <td>...</td>\n",
       "      <td>0.0</td>\n",
       "      <td>0.0</td>\n",
       "      <td>0.0</td>\n",
       "      <td>0.0</td>\n",
       "      <td>0.0</td>\n",
       "      <td>0.0</td>\n",
       "      <td>0.0</td>\n",
       "      <td>0.0</td>\n",
       "      <td>0.0</td>\n",
       "      <td>0</td>\n",
       "    </tr>\n",
       "    <tr>\n",
       "      <th>3</th>\n",
       "      <td>0.00</td>\n",
       "      <td>0.0</td>\n",
       "      <td>0.043165</td>\n",
       "      <td>0.30</td>\n",
       "      <td>0.0</td>\n",
       "      <td>0.0</td>\n",
       "      <td>0.0</td>\n",
       "      <td>0.0</td>\n",
       "      <td>0.0</td>\n",
       "      <td>0.0</td>\n",
       "      <td>...</td>\n",
       "      <td>0.0</td>\n",
       "      <td>1.0</td>\n",
       "      <td>0.0</td>\n",
       "      <td>0.0</td>\n",
       "      <td>0.0</td>\n",
       "      <td>0.0</td>\n",
       "      <td>0.0</td>\n",
       "      <td>0.0</td>\n",
       "      <td>0.0</td>\n",
       "      <td>0</td>\n",
       "    </tr>\n",
       "    <tr>\n",
       "      <th>4</th>\n",
       "      <td>0.00</td>\n",
       "      <td>0.5</td>\n",
       "      <td>0.179856</td>\n",
       "      <td>0.45</td>\n",
       "      <td>0.0</td>\n",
       "      <td>0.0</td>\n",
       "      <td>1.0</td>\n",
       "      <td>0.0</td>\n",
       "      <td>0.0</td>\n",
       "      <td>0.0</td>\n",
       "      <td>...</td>\n",
       "      <td>0.0</td>\n",
       "      <td>0.0</td>\n",
       "      <td>0.0</td>\n",
       "      <td>0.0</td>\n",
       "      <td>0.0</td>\n",
       "      <td>1.0</td>\n",
       "      <td>0.0</td>\n",
       "      <td>0.0</td>\n",
       "      <td>0.0</td>\n",
       "      <td>0</td>\n",
       "    </tr>\n",
       "    <tr>\n",
       "      <th>8</th>\n",
       "      <td>0.00</td>\n",
       "      <td>0.0</td>\n",
       "      <td>0.374101</td>\n",
       "      <td>0.15</td>\n",
       "      <td>0.0</td>\n",
       "      <td>0.0</td>\n",
       "      <td>0.0</td>\n",
       "      <td>1.0</td>\n",
       "      <td>0.0</td>\n",
       "      <td>0.0</td>\n",
       "      <td>...</td>\n",
       "      <td>1.0</td>\n",
       "      <td>0.0</td>\n",
       "      <td>0.0</td>\n",
       "      <td>0.0</td>\n",
       "      <td>0.0</td>\n",
       "      <td>0.0</td>\n",
       "      <td>0.0</td>\n",
       "      <td>0.0</td>\n",
       "      <td>0.0</td>\n",
       "      <td>0</td>\n",
       "    </tr>\n",
       "    <tr>\n",
       "      <th>12</th>\n",
       "      <td>0.50</td>\n",
       "      <td>0.0</td>\n",
       "      <td>0.625899</td>\n",
       "      <td>0.70</td>\n",
       "      <td>0.0</td>\n",
       "      <td>0.0</td>\n",
       "      <td>1.0</td>\n",
       "      <td>0.0</td>\n",
       "      <td>0.0</td>\n",
       "      <td>0.0</td>\n",
       "      <td>...</td>\n",
       "      <td>0.0</td>\n",
       "      <td>0.0</td>\n",
       "      <td>0.0</td>\n",
       "      <td>0.0</td>\n",
       "      <td>1.0</td>\n",
       "      <td>0.0</td>\n",
       "      <td>0.0</td>\n",
       "      <td>0.0</td>\n",
       "      <td>0.0</td>\n",
       "      <td>0</td>\n",
       "    </tr>\n",
       "  </tbody>\n",
       "</table>\n",
       "<p>5 rows × 23 columns</p>\n",
       "</div>"
      ],
      "text/plain": [
       "       0    1         2     3  rating_NC-17  rating_PG  rating_PG-13  \\\n",
       "2   0.75  1.0  0.985612  0.25           0.0        0.0           1.0   \n",
       "3   0.00  0.0  0.043165  0.30           0.0        0.0           0.0   \n",
       "4   0.00  0.5  0.179856  0.45           0.0        0.0           1.0   \n",
       "8   0.00  0.0  0.374101  0.15           0.0        0.0           0.0   \n",
       "12  0.50  0.0  0.625899  0.70           0.0        0.0           1.0   \n",
       "\n",
       "    rating_R  special_features_Commentaries  \\\n",
       "2        0.0                            0.0   \n",
       "3        0.0                            0.0   \n",
       "4        0.0                            0.0   \n",
       "8        1.0                            0.0   \n",
       "12       0.0                            0.0   \n",
       "\n",
       "    special_features_Commentaries,Behind the Scenes  ...  \\\n",
       "2                                               0.0  ...   \n",
       "3                                               0.0  ...   \n",
       "4                                               0.0  ...   \n",
       "8                                               0.0  ...   \n",
       "12                                              0.0  ...   \n",
       "\n",
       "    special_features_Deleted Scenes,Behind the Scenes  \\\n",
       "2                                                 0.0   \n",
       "3                                                 0.0   \n",
       "4                                                 0.0   \n",
       "8                                                 1.0   \n",
       "12                                                0.0   \n",
       "\n",
       "    special_features_Trailers  special_features_Trailers,Behind the Scenes  \\\n",
       "2                         0.0                                          0.0   \n",
       "3                         1.0                                          0.0   \n",
       "4                         0.0                                          0.0   \n",
       "8                         0.0                                          0.0   \n",
       "12                        0.0                                          0.0   \n",
       "\n",
       "    special_features_Trailers,Commentaries  \\\n",
       "2                                      0.0   \n",
       "3                                      0.0   \n",
       "4                                      0.0   \n",
       "8                                      0.0   \n",
       "12                                     0.0   \n",
       "\n",
       "    special_features_Trailers,Commentaries,Behind the Scenes  \\\n",
       "2                                                 0.0          \n",
       "3                                                 0.0          \n",
       "4                                                 0.0          \n",
       "8                                                 0.0          \n",
       "12                                                1.0          \n",
       "\n",
       "    special_features_Trailers,Commentaries,Deleted Scenes  \\\n",
       "2                                                 0.0       \n",
       "3                                                 0.0       \n",
       "4                                                 1.0       \n",
       "8                                                 0.0       \n",
       "12                                                0.0       \n",
       "\n",
       "    special_features_Trailers,Commentaries,Deleted Scenes,Behind the Scenes  \\\n",
       "2                                                 0.0                         \n",
       "3                                                 0.0                         \n",
       "4                                                 0.0                         \n",
       "8                                                 0.0                         \n",
       "12                                                0.0                         \n",
       "\n",
       "    special_features_Trailers,Deleted Scenes  \\\n",
       "2                                        0.0   \n",
       "3                                        0.0   \n",
       "4                                        0.0   \n",
       "8                                        0.0   \n",
       "12                                       0.0   \n",
       "\n",
       "    special_features_Trailers,Deleted Scenes,Behind the Scenes  rented_in_may  \n",
       "2                                                 0.0                       0  \n",
       "3                                                 0.0                       0  \n",
       "4                                                 0.0                       0  \n",
       "8                                                 0.0                       0  \n",
       "12                                                0.0                       0  \n",
       "\n",
       "[5 rows x 23 columns]"
      ]
     },
     "execution_count": 61,
     "metadata": {},
     "output_type": "execute_result"
    }
   ],
   "source": [
    "train_oversampled = pd.concat([no_rented,yes_rented_oversampled],axis=0)\n",
    "train_oversampled.head()"
   ]
  },
  {
   "cell_type": "code",
   "execution_count": 62,
   "id": "8c380d4f",
   "metadata": {},
   "outputs": [],
   "source": [
    "y_train_over = train_oversampled['rented_in_may'].copy()\n",
    "X_train_over = train_oversampled.drop('rented_in_may',axis = 1).copy()"
   ]
  },
  {
   "cell_type": "code",
   "execution_count": 67,
   "id": "c5720a36",
   "metadata": {},
   "outputs": [
    {
     "name": "stdout",
     "output_type": "stream",
     "text": [
      "precision:  0.6777777777777778\n",
      "recall:  0.4552238805970149\n",
      "f1:  0.5446428571428572\n"
     ]
    },
    {
     "name": "stderr",
     "output_type": "stream",
     "text": [
      "C:\\Users\\sabba\\anaconda3\\lib\\site-packages\\sklearn\\utils\\validation.py:1688: FutureWarning: Feature names only support names that are all strings. Got feature names with dtypes: ['int', 'str']. An error will be raised in 1.2.\n",
      "  warnings.warn(\n",
      "C:\\Users\\sabba\\anaconda3\\lib\\site-packages\\sklearn\\utils\\validation.py:1688: FutureWarning: Feature names only support names that are all strings. Got feature names with dtypes: ['int', 'str']. An error will be raised in 1.2.\n",
      "  warnings.warn(\n"
     ]
    }
   ],
   "source": [
    "LR_over = LogisticRegression(random_state=0, solver='lbfgs')\n",
    "LR_over.fit(X_train_over, y_train_over)\n",
    "pred = LR_over.predict(X_test_treated)\n",
    "\n",
    "print(\"precision: \",precision_score(y_test,pred))\n",
    "print(\"recall: \",recall_score(y_test,pred))\n",
    "print(\"f1: \",f1_score(y_test,pred))"
   ]
  },
  {
   "cell_type": "code",
   "execution_count": 68,
   "id": "6356d629",
   "metadata": {
    "scrolled": true
   },
   "outputs": [
    {
     "data": {
      "text/plain": [
       "array([[37, 29],\n",
       "       [73, 61]], dtype=int64)"
      ]
     },
     "execution_count": 68,
     "metadata": {},
     "output_type": "execute_result"
    }
   ],
   "source": [
    "confusion_matrix(y_test,pred)"
   ]
  },
  {
   "cell_type": "code",
   "execution_count": 69,
   "id": "fec2cf6f",
   "metadata": {},
   "outputs": [
    {
     "data": {
      "text/plain": [
       "array([0, 0, 0, 1, 1, 1, 0, 1, 1, 1, 0, 1, 1, 1, 1, 0, 0, 0, 0, 1, 1, 1,\n",
       "       0, 0, 1, 0, 1, 1, 1, 0, 1, 0, 0, 0, 0, 0, 0, 0, 0, 1, 0, 1, 1, 1,\n",
       "       0, 0, 0, 0, 1, 0, 0, 1, 0, 0, 1, 1, 0, 1, 1, 0, 0, 0, 0, 1, 1, 0,\n",
       "       0, 0, 0, 0, 0, 0, 0, 1, 0, 0, 0, 1, 1, 1, 0, 1, 1, 0, 1, 0, 0, 0,\n",
       "       1, 0, 0, 1, 1, 0, 1, 0, 1, 0, 1, 0, 0, 1, 1, 0, 0, 1, 1, 0, 0, 1,\n",
       "       0, 1, 0, 1, 0, 0, 0, 0, 1, 0, 1, 0, 0, 0, 0, 1, 0, 1, 1, 1, 1, 0,\n",
       "       0, 0, 0, 1, 1, 0, 1, 1, 0, 1, 0, 1, 1, 1, 1, 1, 1, 0, 1, 0, 0, 1,\n",
       "       0, 0, 0, 0, 1, 0, 0, 1, 1, 1, 1, 1, 0, 0, 1, 1, 1, 1, 0, 0, 1, 0,\n",
       "       1, 0, 1, 0, 1, 1, 1, 0, 0, 0, 0, 0, 0, 0, 0, 0, 1, 0, 0, 1, 1, 1,\n",
       "       0, 0], dtype=int64)"
      ]
     },
     "execution_count": 69,
     "metadata": {},
     "output_type": "execute_result"
    }
   ],
   "source": [
    "pred"
   ]
  },
  {
   "cell_type": "markdown",
   "id": "d4be9fa8",
   "metadata": {},
   "source": [
    "# Conclusion"
   ]
  },
  {
   "cell_type": "markdown",
   "id": "bc9e37d8",
   "metadata": {},
   "source": [
    "### Even though the percentage of rented movies throughout the year is close to 70%, which is close to our prediction score, our features in the model are very limited and not very correlated to the label, making our model not much different then just guessing and, therefore, not usefull.    "
   ]
  },
  {
   "cell_type": "markdown",
   "id": "77cb0cdc",
   "metadata": {},
   "source": [
    "## Bonus - PICKLING and UNPICKLING"
   ]
  },
  {
   "cell_type": "code",
   "execution_count": null,
   "id": "36c99d00",
   "metadata": {},
   "outputs": [],
   "source": [
    "#import pickle\n",
    "#pickle.dump(transformer, open('minmaxtransformer.p', 'wb'))  # to write ans save\n",
    "#pickle.dump(classification, open('logisticregression.p', 'wb'))\n",
    "\n",
    "#normalizer = pickle.load(open('minmaxtransformer.p','rb'))\n",
    "#LR_model = pickle.load(open('logisticregressio.p','rb'))"
   ]
  }
 ],
 "metadata": {
  "kernelspec": {
   "display_name": "Python 3 (ipykernel)",
   "language": "python",
   "name": "python3"
  },
  "language_info": {
   "codemirror_mode": {
    "name": "ipython",
    "version": 3
   },
   "file_extension": ".py",
   "mimetype": "text/x-python",
   "name": "python",
   "nbconvert_exporter": "python",
   "pygments_lexer": "ipython3",
   "version": "3.9.13"
  }
 },
 "nbformat": 4,
 "nbformat_minor": 5
}
